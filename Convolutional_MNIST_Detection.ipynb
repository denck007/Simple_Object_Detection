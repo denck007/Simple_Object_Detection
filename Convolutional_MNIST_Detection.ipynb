{
 "cells": [
  {
   "cell_type": "markdown",
   "metadata": {},
   "source": [
    "# Convolutional Model of MNIST For Detection\n",
    "\n",
    "This is the first step in messing around with the YOLO approach for object detection. This notebook goes through using FCN for detecting, locating, and predicting a MNIST number in a black background.\n",
    "\n",
    "Start tensorboard with: python3 -m tensorflow.tensorboard --logdir=/dataset/Untitled Folder/Conv-LSTM_MNIST_Tracker_data/"
   ]
  },
  {
   "cell_type": "code",
   "execution_count": 1,
   "metadata": {},
   "outputs": [
    {
     "name": "stderr",
     "output_type": "stream",
     "text": [
      "Using TensorFlow backend.\n"
     ]
    }
   ],
   "source": [
    "import numpy as np\n",
    "import keras\n",
    "from keras.models import Sequential\n",
    "from keras.layers import Conv2D, MaxPooling2D\n",
    "from keras.layers.convolutional_recurrent import ConvLSTM2D\n",
    "from keras.layers import Dense, Dropout, Flatten, Activation, Lambda\n",
    "from keras.layers import TimeDistributed\n",
    "from keras.layers import Reshape\n",
    "from keras.datasets import mnist\n",
    "from keras.callbacks import ModelCheckpoint\n",
    "from keras import metrics\n",
    "from keras import losses\n",
    "from keras import backend as K\n",
    "\n",
    "import matplotlib.pyplot as plt\n",
    "%matplotlib inline\n",
    "plt.rcParams['figure.figsize'] = (10,10)"
   ]
  },
  {
   "cell_type": "code",
   "execution_count": 2,
   "metadata": {
    "collapsed": true
   },
   "outputs": [],
   "source": [
    "batch_size = 24\n",
    "num_classes = 10\n",
    "n_steps = 5\n",
    "epochs = 5\n",
    "\n",
    "# Shape of the large images we are putting the numbers into\n",
    "large_image_shape = (64,64)\n",
    "\n",
    "# Checkpoint folder\n",
    "model_data_folder = \"/dataset/MNIST_Tracking/Convolutional_MNIST_Detection_data/\""
   ]
  },
  {
   "cell_type": "code",
   "execution_count": 3,
   "metadata": {
    "collapsed": true
   },
   "outputs": [],
   "source": [
    "# the data, shuffled and split between train and test sets\n",
    "(x_train, y_train), (x_test, y_test) = mnist.load_data()\n",
    "\n",
    "if K.image_data_format() == 'channels_first':\n",
    "    x_train = x_train.reshape(x_train.shape[0], 1, x_train.shape[1], x_train.shape[2])\n",
    "    x_test = x_test.reshape(x_test.shape[0], 1, x_test.shape[1], x_test.shape[2])\n",
    "    input_shape = (1,x_test.shape[1], x_test.shape[2])\n",
    "else:\n",
    "    x_train = x_train.reshape(x_train.shape[0],  x_train.shape[1], x_train.shape[2], 1)\n",
    "    x_test = x_test.reshape(x_test.shape[0], x_test.shape[1], x_test.shape[2], 1)\n",
    "    input_shape = (x_test.shape[1], x_test.shape[2], 1)"
   ]
  },
  {
   "cell_type": "code",
   "execution_count": 4,
   "metadata": {
    "collapsed": true
   },
   "outputs": [],
   "source": [
    "def generate_inputs(x,y,batch_size = 128, n_classes = 10, large_image_shape = (64,64),max_speed = 5):\n",
    "    '''\n",
    "    Using an MNIST number, make a video with the number randomly located and moving.\n",
    "    \n",
    "    n_classes: 10, fixed for MNIST\n",
    "    large_image_shape: the shape of the output video\n",
    "    max_speed: The max speed the number can travel across the frame in pixels/frame    \n",
    "    \n",
    "    '''      \n",
    "    \n",
    "    n_samples,n_rows,n_cols,n_chan = x.shape\n",
    "    num_batches = np.round(float(n_samples)/float(batch_size)-.5)\n",
    "    \n",
    "    y = keras.utils.to_categorical(y, n_classes)\n",
    "    \n",
    "    while 1:\n",
    "        sample_order = np.random.permutation(x.shape[0])\n",
    "        x_out = np.zeros((batch_size,large_image_shape[0],large_image_shape[1],n_chan),dtype = x.dtype)\n",
    "        y_out = np.zeros((batch_size,1,1,n_classes+2))\n",
    "        \n",
    "        location_out = np.zeros((batch_size,1,1,2))\n",
    "        class_out = np.zeros((batch_size,1,1,n_classes))\n",
    "\n",
    "        permute_counter = 0\n",
    "        for ii in range(batch_size):\n",
    "            permute_counter += 1\n",
    "            # velocity vecotor\n",
    "            velo = np.random.randint(-max_speed,max_speed,2)\n",
    "            # initialize the limits on where the the number can start\n",
    "            limits = np.array([[int(n_rows/2),large_image_shape[0]-int(n_rows/2)],\n",
    "                               [int(n_cols/2),large_image_shape[1]-int(n_cols/2)]])\n",
    "            \n",
    "            if velo[0] >= 0:\n",
    "                limits[0,1] = large_image_shape[0] - (int(n_rows/2) + velo[0]*n_steps)\n",
    "            else:\n",
    "                limits[0,0] = int(n_rows/2) - velo[0]*n_steps\n",
    "                \n",
    "            if velo[1] >= 0:\n",
    "                limits[1,1] = large_image_shape[0] - (int(n_rows/2) + velo[1]*n_steps)\n",
    "            else:\n",
    "                limits[1,0] = int(n_rows/2) - velo[1]*n_steps\n",
    "            \n",
    "            #initialize and create starting point\n",
    "            location = np.zeros((2))\n",
    "            location[0] = np.random.randint(limits[0,0],limits[0,1])\n",
    "            location[1] = np.random.randint(limits[1,0],limits[1,1])\n",
    "            location = location.astype(np.int)\n",
    "            # convert to relative distance across image\n",
    "            location_out[ii,0,0,0]=location[0]/large_image_shape[0]\n",
    "            location_out[ii,0,0,1]=location[1]/large_image_shape[1]\n",
    "            \n",
    "            x_out[ii,\n",
    "                  int(location[0] - n_rows/2):int(location[0] + n_rows/2),\n",
    "                  int(location[1] - n_cols/2):int(location[1] + n_cols/2),:] = x[sample_order[permute_counter]]\n",
    "            \n",
    "            class_out[ii,0,0,:] = y[sample_order[permute_counter]]\n",
    "            \n",
    "        x_out = x_out.astype(np.float32)/255.\n",
    "        y_out = np.concatenate((location_out,class_out),axis=3)\n",
    "        \n",
    "        yield (x_out,y_out)"
   ]
  },
  {
   "cell_type": "code",
   "execution_count": 5,
   "metadata": {
    "scrolled": false
   },
   "outputs": [
    {
     "data": {
      "image/png": "[encoded data removed]",
      "text/plain": [
       "<matplotlib.figure.Figure at 0x7fc8039a7c50>"
      ]
     },
     "metadata": {},
     "output_type": "display_data"
    }
   ],
   "source": [
    "# Take a look at what the images look like\n",
    "dev_batch_size = 6\n",
    "num_batches = 1\n",
    "\n",
    "t = generate_inputs(x_train,y_train,batch_size = dev_batch_size, n_classes = 10, large_image_shape=large_image_shape)\n",
    "\n",
    "batch_counter = 0 \n",
    "for ii in t:\n",
    "    batch_counter += 1\n",
    "    data = ii[0]\n",
    "    n_cols = n_steps\n",
    "    n_rows = dev_batch_size\n",
    "    counter = 0\n",
    "    img_shape = data[0,:,:,0].shape\n",
    "    for jj in range(dev_batch_size):\n",
    "        counter += 1\n",
    "        plt.subplot(n_rows,n_cols,counter)\n",
    "        plt.title('{}'.format(np.argmax(ii[1][jj,0,0,2:])))\n",
    "        plt.imshow(data[jj,:,:,:].reshape(img_shape[0],img_shape[1]))\n",
    "    plt.show()\n",
    "    if batch_counter >= num_batches:\n",
    "        break\n"
   ]
  },
  {
   "cell_type": "code",
   "execution_count": 6,
   "metadata": {
    "collapsed": true
   },
   "outputs": [],
   "source": [
    "def locs_loss(y_true,y_pred):\n",
    "    \n",
    "    # want location error of the sample image width (28x28) to be just as bad as a wrong class\n",
    "    \n",
    "    scale = np.log(10)/((28./64.)**2)\n",
    "    locs = K.clip(y_pred[...,:2],0.,1.)\n",
    "    loss = scale * losses.mean_squared_error(y_true[:,:,:,:2],locs)\n",
    "    return loss\n",
    "\n",
    "def class_loss(y_true,y_pred):\n",
    "    \n",
    "    classes = K.softmax(y_pred[:,:,:,2:])\n",
    "    loss = losses.categorical_crossentropy(y_true[:,:,:,2:],classes)\n",
    "\n",
    "    return loss\n",
    "\n",
    "def custom_loss(y_true, y_pred):\n",
    "    \n",
    "    locs =locs_loss(y_true,y_pred)\n",
    "    classes = class_loss(y_true,y_pred)\n",
    "    \n",
    "    loss = locs + classes\n",
    "    return loss\n",
    "\n",
    "def class_acc(y_true,y_pred):\n",
    "    \n",
    "    return metrics.categorical_accuracy(y_true[:,:,:,2:],y_pred[:,:,:,2:])"
   ]
  },
  {
   "cell_type": "code",
   "execution_count": 7,
   "metadata": {
    "collapsed": true
   },
   "outputs": [],
   "source": [
    "train_gen = generate_inputs(x_train,y_train,batch_size = batch_size, n_classes = 10)\n",
    "test_gen = generate_inputs(x_test,y_test,batch_size = batch_size,n_classes = 10)"
   ]
  },
  {
   "cell_type": "code",
   "execution_count": 8,
   "metadata": {
    "scrolled": false
   },
   "outputs": [
    {
     "name": "stdout",
     "output_type": "stream",
     "text": [
      "_________________________________________________________________\n",
      "Layer (type)                 Output Shape              Param #   \n",
      "=================================================================\n",
      "main_input (InputLayer)      (None, 64, 64, 1)         0         \n",
      "_________________________________________________________________\n",
      "Conv_01 (Conv2D)             (None, 62, 62, 32)        320       \n",
      "_________________________________________________________________\n",
      "Maxpool_02 (MaxPooling2D)    (None, 20, 20, 32)        0         \n",
      "_________________________________________________________________\n",
      "Conv_03 (Conv2D)             (None, 18, 18, 32)        9248      \n",
      "_________________________________________________________________\n",
      "Maxpool_04 (MaxPooling2D)    (None, 4, 4, 32)          0         \n",
      "_________________________________________________________________\n",
      "Conv_05 (Conv2D)             (None, 1, 1, 12)          6156      \n",
      "=================================================================\n",
      "Total params: 15,724\n",
      "Trainable params: 15,724\n",
      "Non-trainable params: 0\n",
      "_________________________________________________________________\n"
     ]
    }
   ],
   "source": [
    "from keras.layers import Input\n",
    "from keras.models import Model\n",
    "main_input = Input(shape=(64,64,1),dtype='float32',name=\"main_input\")\n",
    "x=Conv2D(filters=32, kernel_size=(3, 3),padding='valid',activation='relu',name='Conv_01')(main_input)\n",
    "x=MaxPooling2D(pool_size=(3,3),name=\"Maxpool_02\")(x)\n",
    "x=Conv2D(32, (3,3), activation='relu',name=\"Conv_03\")(x)\n",
    "x=MaxPooling2D(pool_size=(4,4),name=\"Maxpool_04\")(x)\n",
    "\n",
    "x=Conv2D(filters=12, kernel_size=(4,4),padding='valid',activation='relu',name='Conv_05')(x)\n",
    "\n",
    "model = Model(inputs=main_input, outputs=x)\n",
    "\n",
    "model.compile(loss=custom_loss,\n",
    "              optimizer=keras.optimizers.Adadelta(),\n",
    "              metrics=[class_acc,class_loss,locs_loss])\n",
    "model.summary()"
   ]
  },
  {
   "cell_type": "code",
   "execution_count": 9,
   "metadata": {
    "collapsed": true
   },
   "outputs": [],
   "source": [
    "# tensorboard\n",
    "#keras.callbacks.TensorBoard(log_dir=model_data_folder, histogram_freq=0,write_graph=True, write_images=True)\n",
    "tbCallBack = keras.callbacks.TensorBoard(log_dir=model_data_folder, histogram_freq=0, write_graph=True, write_images=True)\n",
    "\n",
    "#Checkpoints\n",
    "checkpointer = ModelCheckpoint(filepath=model_data_folder + 'weights.hd5', verbose=1, save_best_only=True)\n",
    "\n",
    "#logger\n",
    "csv_logger = keras.callbacks.CSVLogger(model_data_folder+\"train_log.csv\", separator=',', append=False)"
   ]
  },
  {
   "cell_type": "code",
   "execution_count": 10,
   "metadata": {
    "scrolled": false
   },
   "outputs": [
    {
     "name": "stdout",
     "output_type": "stream",
     "text": [
      "Epoch 1/5\n",
      "2495/2500 [============================>.] - ETA: 0s - loss: 2.1253 - class_acc: 0.2673 - class_loss: 2.0832 - locs_loss: 0.0420Epoch 00000: val_loss improved from inf to 1.88507, saving model to /dataset/MNIST_Tracking/Convolutional_MNIST_Detection_data/weights.hd5\n",
      "2500/2500 [==============================] - 27s - loss: 2.1246 - class_acc: 0.2676 - class_loss: 2.0826 - locs_loss: 0.0420 - val_loss: 1.8851 - val_class_acc: 0.3858 - val_class_loss: 1.8518 - val_locs_loss: 0.0333\n",
      "Epoch 2/5\n",
      "2499/2500 [============================>.] - ETA: 0s - loss: 1.7258 - class_acc: 0.4363 - class_loss: 1.6917 - locs_loss: 0.0341Epoch 00001: val_loss improved from 1.88507 to 1.56744, saving model to /dataset/MNIST_Tracking/Convolutional_MNIST_Detection_data/weights.hd5\n",
      "2500/2500 [==============================] - 27s - loss: 1.7258 - class_acc: 0.4363 - class_loss: 1.6917 - locs_loss: 0.0341 - val_loss: 1.5674 - val_class_acc: 0.4942 - val_class_loss: 1.5389 - val_locs_loss: 0.0286\n",
      "Epoch 3/5\n",
      "2495/2500 [============================>.] - ETA: 0s - loss: 1.5024 - class_acc: 0.4968 - class_loss: 1.4680 - locs_loss: 0.0344Epoch 00002: val_loss improved from 1.56744 to 1.38618, saving model to /dataset/MNIST_Tracking/Convolutional_MNIST_Detection_data/weights.hd5\n",
      "2500/2500 [==============================] - 26s - loss: 1.5024 - class_acc: 0.4968 - class_loss: 1.4680 - locs_loss: 0.0344 - val_loss: 1.3862 - val_class_acc: 0.5244 - val_class_loss: 1.3617 - val_locs_loss: 0.0244\n",
      "Epoch 4/5\n",
      "2498/2500 [============================>.] - ETA: 0s - loss: 1.3616 - class_acc: 0.5237 - class_loss: 1.3312 - locs_loss: 0.0304Epoch 00003: val_loss improved from 1.38618 to 1.29512, saving model to /dataset/MNIST_Tracking/Convolutional_MNIST_Detection_data/weights.hd5\n",
      "2500/2500 [==============================] - 28s - loss: 1.3618 - class_acc: 0.5236 - class_loss: 1.3314 - locs_loss: 0.0304 - val_loss: 1.2951 - val_class_acc: 0.5487 - val_class_loss: 1.2615 - val_locs_loss: 0.0336\n",
      "Epoch 5/5\n",
      "2497/2500 [============================>.] - ETA: 0s - loss: 1.2808 - class_acc: 0.5396 - class_loss: 1.2546 - locs_loss: 0.0262Epoch 00004: val_loss improved from 1.29512 to 1.20826, saving model to /dataset/MNIST_Tracking/Convolutional_MNIST_Detection_data/weights.hd5\n",
      "2500/2500 [==============================] - 28s - loss: 1.2808 - class_acc: 0.5396 - class_loss: 1.2546 - locs_loss: 0.0262 - val_loss: 1.2083 - val_class_acc: 0.5756 - val_class_loss: 1.1636 - val_locs_loss: 0.0447\n"
     ]
    },
    {
     "data": {
      "text/plain": [
       "<keras.callbacks.History at 0x7fc7eb880d30>"
      ]
     },
     "execution_count": 10,
     "metadata": {},
     "output_type": "execute_result"
    }
   ],
   "source": [
    "model.fit_generator(train_gen,\n",
    "          steps_per_epoch = np.round(x_train.shape[0]/batch_size-.5).astype('int'),\n",
    "          epochs=epochs,\n",
    "          verbose=1,\n",
    "          validation_data=test_gen,\n",
    "          validation_steps =np.round(x_test.shape[0]/batch_size-.5).astype('int'),\n",
    "          callbacks=[tbCallBack,checkpointer,csv_logger])"
   ]
  },
  {
   "cell_type": "code",
   "execution_count": 11,
   "metadata": {
    "scrolled": false
   },
   "outputs": [
    {
     "data": {
      "image/png": "[encoded data removed]",
      "text/plain": [
       "<matplotlib.figure.Figure at 0x7fc7f1a039e8>"
      ]
     },
     "metadata": {},
     "output_type": "display_data"
    }
   ],
   "source": [
    "# Take a look at what the images look like\n",
    "dev_batch_size = 6\n",
    "num_batches = 1\n",
    "\n",
    "t = generate_inputs(x_train,y_train,batch_size = dev_batch_size, n_classes = 10, large_image_shape=large_image_shape)\n",
    "\n",
    "batch_counter = 0 \n",
    "for data in t:\n",
    "    batch_counter += 1\n",
    "    predictions = model.predict(data[0],batch_size=dev_batch_size)\n",
    "\n",
    "    image = data[0]\n",
    "    n_cols = n_steps\n",
    "    n_rows = dev_batch_size\n",
    "    counter = 0\n",
    "    img_shape = image[0,:,:,0].shape\n",
    "    for jj in range(dev_batch_size):\n",
    "        counter += 1\n",
    "        #get the rows and colums of each prediction\n",
    "        r = int(predictions[jj,0,0,0]*img_shape[0])\n",
    "        c = int(predictions[jj,0,0,1]*img_shape[1])\n",
    "        # reshape and draw the lines on the image\n",
    "        img = image[jj,:,:,:].reshape(img_shape[0],img_shape[1])\n",
    "        img[r,:] = 1\n",
    "        img[:,c] = 1\n",
    "        \n",
    "        label = np.argmax(data[1][jj,0,0,2:])\n",
    "        predicted = np.argmax(predictions[jj,0,0,2:])\n",
    "        \n",
    "        plt.subplot(n_rows,n_cols,counter)\n",
    "        plt.title('pred:{} act:{}'.format(predicted,label))\n",
    "        plt.imshow(img)\n",
    "    plt.show()\n",
    "    if batch_counter >= num_batches:\n",
    "        break\n"
   ]
  }
 ],
 "metadata": {
  "kernelspec": {
   "display_name": "Python 3",
   "language": "python",
   "name": "python3"
  },
  "language_info": {
   "codemirror_mode": {
    "name": "ipython",
    "version": 3
   },
   "file_extension": ".py",
   "mimetype": "text/x-python",
   "name": "python",
   "nbconvert_exporter": "python",
   "pygments_lexer": "ipython3",
   "version": "3.5.2"
  }
 },
 "nbformat": 4,
 "nbformat_minor": 2
}
